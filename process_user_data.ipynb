{
 "cells": [
  {
   "cell_type": "markdown",
   "metadata": {},
   "source": [
    "# Process user data"
   ]
  },
  {
   "cell_type": "code",
   "execution_count": 99,
   "metadata": {},
   "outputs": [],
   "source": [
    "#specify imports\n",
    "import pandas as pd\n",
    "import ast"
   ]
  },
  {
   "cell_type": "code",
   "execution_count": 100,
   "metadata": {},
   "outputs": [],
   "source": [
    "#load in data\n",
    "user_data = pd.read_csv(\"user_data.csv\", on_bad_lines='skip', sep=\";\", index_col=0)\n",
    "user_data = user_data.drop(\"genre.1\", axis=1)"
   ]
  },
  {
   "cell_type": "markdown",
   "metadata": {},
   "source": [
    "## Transform data"
   ]
  },
  {
   "cell_type": "code",
   "execution_count": 103,
   "metadata": {},
   "outputs": [],
   "source": [
    "user_data['top5'] = user_data['top5'].apply(lambda x: ast.literal_eval(x))"
   ]
  },
  {
   "cell_type": "code",
   "execution_count": 104,
   "metadata": {},
   "outputs": [],
   "source": [
    "user_data['title_type'] = user_data['title_type'].apply(lambda x: ast.literal_eval(x))"
   ]
  },
  {
   "cell_type": "code",
   "execution_count": 105,
   "metadata": {},
   "outputs": [],
   "source": [
    "user_data['rating'] = user_data['rating'].apply(lambda x: ast.literal_eval(x))"
   ]
  },
  {
   "cell_type": "code",
   "execution_count": 106,
   "metadata": {},
   "outputs": [],
   "source": [
    "user_data['prefDate'] = user_data['prefDate'].apply(lambda x: ast.literal_eval(x))"
   ]
  },
  {
   "cell_type": "code",
   "execution_count": 107,
   "metadata": {},
   "outputs": [],
   "source": [
    "user_data['genre'] = user_data['genre'].apply(lambda x: ast.literal_eval(x))"
   ]
  },
  {
   "cell_type": "markdown",
   "metadata": {},
   "source": [
    "## Rename "
   ]
  },
  {
   "cell_type": "code",
   "execution_count": 108,
   "metadata": {},
   "outputs": [],
   "source": [
    "user_data = user_data.rename(columns={\"age\":\"dob\",\"top5\":\"top10\",\"genre\":\"pref_genre\",\"prefDate\":\"pref_years\",\"rating\":\"pref_rating\",\"title_type\":\"pref_title_type\"})"
   ]
  },
  {
   "cell_type": "code",
   "execution_count": 109,
   "metadata": {},
   "outputs": [
    {
     "data": {
      "text/html": [
       "<div>\n",
       "<style scoped>\n",
       "    .dataframe tbody tr th:only-of-type {\n",
       "        vertical-align: middle;\n",
       "    }\n",
       "\n",
       "    .dataframe tbody tr th {\n",
       "        vertical-align: top;\n",
       "    }\n",
       "\n",
       "    .dataframe thead th {\n",
       "        text-align: right;\n",
       "    }\n",
       "</style>\n",
       "<table border=\"1\" class=\"dataframe\">\n",
       "  <thead>\n",
       "    <tr style=\"text-align: right;\">\n",
       "      <th></th>\n",
       "      <th>dob</th>\n",
       "      <th>email</th>\n",
       "      <th>first_name</th>\n",
       "      <th>gender</th>\n",
       "      <th>pref_genre</th>\n",
       "      <th>key</th>\n",
       "      <th>location</th>\n",
       "      <th>password</th>\n",
       "      <th>pref_years</th>\n",
       "      <th>pref_rating</th>\n",
       "      <th>pref_title_type</th>\n",
       "      <th>top10</th>\n",
       "    </tr>\n",
       "  </thead>\n",
       "  <tbody>\n",
       "    <tr>\n",
       "      <th>0</th>\n",
       "      <td>1962-07-21</td>\n",
       "      <td>Miriamtje@live.nl</td>\n",
       "      <td>Miriam</td>\n",
       "      <td>Female</td>\n",
       "      <td>[DOCUMENTARY, INDIGENOUS]</td>\n",
       "      <td>Miriamtje</td>\n",
       "      <td>Breda</td>\n",
       "      <td>b9)g/NG}</td>\n",
       "      <td>[2018, 2019]</td>\n",
       "      <td>[MA]</td>\n",
       "      <td>[Panel_Discussion, News, Documentary]</td>\n",
       "      <td>[ABC News WA, Keeping Australia Safe, You Can'...</td>\n",
       "    </tr>\n",
       "    <tr>\n",
       "      <th>1</th>\n",
       "      <td>1993-05-26</td>\n",
       "      <td>Dortha00@icloud.com</td>\n",
       "      <td>Dortha</td>\n",
       "      <td>Female</td>\n",
       "      <td>[NEWS]</td>\n",
       "      <td>Dortha00</td>\n",
       "      <td>Rheden</td>\n",
       "      <td>z@LcT2+%</td>\n",
       "      <td>[2020, 2022]</td>\n",
       "      <td>[No preference]</td>\n",
       "      <td>[Documentary]</td>\n",
       "      <td>[Ageless Friendships, The Great Australian Bee...</td>\n",
       "    </tr>\n",
       "  </tbody>\n",
       "</table>\n",
       "</div>"
      ],
      "text/plain": [
       "          dob                email first_name  gender  \\\n",
       "0  1962-07-21    Miriamtje@live.nl     Miriam  Female   \n",
       "1  1993-05-26  Dortha00@icloud.com     Dortha  Female   \n",
       "\n",
       "                  pref_genre        key location  password    pref_years  \\\n",
       "0  [DOCUMENTARY, INDIGENOUS]  Miriamtje    Breda  b9)g/NG}  [2018, 2019]   \n",
       "1                     [NEWS]   Dortha00   Rheden  z@LcT2+%  [2020, 2022]   \n",
       "\n",
       "       pref_rating                        pref_title_type  \\\n",
       "0             [MA]  [Panel_Discussion, News, Documentary]   \n",
       "1  [No preference]                          [Documentary]   \n",
       "\n",
       "                                               top10  \n",
       "0  [ABC News WA, Keeping Australia Safe, You Can'...  \n",
       "1  [Ageless Friendships, The Great Australian Bee...  "
      ]
     },
     "execution_count": 109,
     "metadata": {},
     "output_type": "execute_result"
    }
   ],
   "source": [
    "user_data.head(2)"
   ]
  },
  {
   "cell_type": "markdown",
   "metadata": {},
   "source": [
    "## Compare user_data and programs data "
   ]
  },
  {
   "cell_type": "code",
   "execution_count": 111,
   "metadata": {},
   "outputs": [],
   "source": [
    "df_shows = pd.read_csv(\"programs_abc.csv\")\n",
    "all_shows = df_shows['title'].unique()"
   ]
  },
  {
   "cell_type": "code",
   "execution_count": 112,
   "metadata": {},
   "outputs": [],
   "source": [
    "#make sure all 'top10 titles' are in the actual programs data\n",
    "diff_shows = []\n",
    "for index, row in user_data.iterrows():\n",
    "    top_10 = row['top10']\n",
    "    for show in top_10:\n",
    "        if show not in all_shows:\n",
    "            if show not in diff_shows:\n",
    "                diff_shows.append(show)\n",
    "\n",
    "#all other column checked as well"
   ]
  },
  {
   "cell_type": "code",
   "execution_count": 113,
   "metadata": {},
   "outputs": [
    {
     "data": {
      "text/plain": [
       "[]"
      ]
     },
     "execution_count": 113,
     "metadata": {},
     "output_type": "execute_result"
    }
   ],
   "source": [
    "diff_shows"
   ]
  },
  {
   "cell_type": "markdown",
   "metadata": {},
   "source": [
    "## Export data "
   ]
  },
  {
   "cell_type": "code",
   "execution_count": 114,
   "metadata": {},
   "outputs": [],
   "source": [
    "user_data.to_pickle(\"final_users\")"
   ]
  }
 ],
 "metadata": {
  "kernelspec": {
   "display_name": "Python 3",
   "language": "python",
   "name": "python3"
  },
  "language_info": {
   "codemirror_mode": {
    "name": "ipython",
    "version": 3
   },
   "file_extension": ".py",
   "mimetype": "text/x-python",
   "name": "python",
   "nbconvert_exporter": "python",
   "pygments_lexer": "ipython3",
   "version": "3.8.3"
  }
 },
 "nbformat": 4,
 "nbformat_minor": 4
}
